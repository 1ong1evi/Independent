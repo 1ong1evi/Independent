{
 "cells": [
  {
   "cell_type": "markdown",
   "id": "3ed20872-57e0-424c-b521-837687726cbc",
   "metadata": {},
   "source": [
    "# NAICS API calls"
   ]
  },
  {
   "cell_type": "code",
   "execution_count": 4,
   "id": "0a4688dc-43ce-4b19-b097-a4d73a50dbb8",
   "metadata": {},
   "outputs": [],
   "source": [
    "# import libraries \n",
    "from requests import Request, Session\n",
    "import pandas as pd\n",
    "import json"
   ]
  },
  {
   "cell_type": "code",
   "execution_count": 36,
   "id": "36654738-7f4c-48ce-a26f-d449f829437a",
   "metadata": {},
   "outputs": [],
   "source": [
    "# using api from Census data \n",
    "url = 'https://api.census.gov/data/2021/cbp?get=ESTAB,EMP,PAYANN,NAME&for=state:*&NAICS2017=51'"
   ]
  },
  {
   "cell_type": "code",
   "execution_count": 38,
   "id": "5de8b79b-4451-4017-b719-60632bcb0bd6",
   "metadata": {},
   "outputs": [
    {
     "name": "stdout",
     "output_type": "stream",
     "text": [
      "[['ESTAB', 'EMP', 'PAYANN', 'NAME', 'NAICS2017', 'state'], ['1909', '27332', '1914569', 'Alabama', '51', '01'], ['413', '6334', '503024', 'Alaska', '51', '02'], ['2695', '51131', '4571656', 'Arizona', '51', '04'], ['28343', '733292', '185385081', 'California', '51', '06'], ['1776', '35013', '4493722', 'Connecticut', '51', '09'], ['861', '6325', '683533', 'Delaware', '51', '10'], ['1862', '27201', '1459795', 'Kentucky', '51', '21'], ['3709', '121957', '19560636', 'Massachusetts', '51', '25'], ['4071', '59273', '5489651', 'Michigan', '51', '26'], ['2693', '57439', '5934818', 'Minnesota', '51', '27'], ['1058', '10883', '596706', 'Mississippi', '51', '28'], ['718', '7518', '523816', 'Montana', '51', '30'], ['766', '14358', '1554782', 'New Hampshire', '51', '33'], ['3829', '80101', '9517134', 'New Jersey', '51', '34'], ['12428', '300382', '46768544', 'New York', '51', '36'], ['11354', '248110', '26667698', 'Texas', '51', '48'], ['484', '6662', '539295', 'Vermont', '51', '50'], ['471', '3647', '224592', 'Wyoming', '51', '56'], ['5', '133', '3992', 'American Samoa', '51', '60'], ['650', '7082', '430335', 'West Virginia', '51', '54'], ['30', '399', '22266', 'United States Virgin Islands', '51', '78'], ['1198', '20423', '1467581', 'Arkansas', '51', '05'], ['3910', '90687', '12095673', 'Colorado', '51', '08'], ['870', '26516', '3817698', 'District of Columbia', '51', '11'], ['871', '15932', '1429729', 'Idaho', '51', '16'], ['5776', '110510', '12995338', 'Illinois', '51', '17'], ['2370', '39324', '3633038', 'Indiana', '51', '18'], ['1592', '30877', '1906481', 'Iowa', '51', '19'], ['1459', '23291', '1954703', 'Kansas', '51', '20'], ['1576', '18465', '1220534', 'Louisiana', '51', '22'], ['2754', '51926', '4469650', 'Missouri', '51', '29'], ['957', '18953', '1515750', 'Nebraska', '51', '31'], ['1633', '18502', '1561400', 'Nevada', '51', '32'], ['835', '8873', '560948', 'New Mexico', '51', '35'], ['4131', '86053', '9651201', 'North Carolina', '51', '37'], ['1566', '22982', '1484884', 'Oklahoma', '51', '40'], ['2415', '35041', '3670246', 'Oregon', '51', '41'], ['5616', '105124', '11133188', 'Pennsylvania', '51', '42'], ['459', '6573', '559352', 'Rhode Island', '51', '44'], ['1760', '33430', '2566509', 'South Carolina', '51', '45'], ['468', '5623', '349716', 'South Dakota', '51', '46'], ['3011', '43346', '3361717', 'Tennessee', '51', '47'], ['2008', '58924', '6147344', 'Utah', '51', '49'], ['2503', '50444', '4518855', 'Wisconsin', '51', '55'], ['52', '1516', '69046', 'Guam', '51', '66'], ['18', '346', '11657', 'Commonwealth of the Northern Mariana Islands', '51', '69'], ['768', '15568', '760935', 'Puerto Rico', '51', '72'], ['828', '9999', '671126', 'Maine', '51', '23'], ['2527', '45146', '4859237', 'Maryland', '51', '24'], ['3996', '93022', '11902530', 'Virginia', '51', '51'], ['4194', '159350', '41438207', 'Washington', '51', '53'], ['10255', '162422', '16503772', 'Florida', '51', '12'], ['5182', '115131', '13414798', 'Georgia', '51', '13'], ['582', '6285', '486601', 'Hawaii', '51', '15'], ['362', '6596', '517334', 'North Dakota', '51', '38'], ['4252', '90819', '7037189', 'Ohio', '51', '39']]\n"
     ]
    }
   ],
   "source": [
    "# renaming session to be easier to be called\n",
    "session = Session()\n",
    "response = session.get(url)\n",
    "# loading data as json text\n",
    "data = json.loads(response.text)\n",
    "print(data)"
   ]
  },
  {
   "cell_type": "code",
   "execution_count": null,
   "id": "6f52104c-218f-42c9-81e1-d80f6f0a9b9f",
   "metadata": {},
   "outputs": [],
   "source": []
  }
 ],
 "metadata": {
  "kernelspec": {
   "display_name": "Python 3 (ipykernel)",
   "language": "python",
   "name": "python3"
  },
  "language_info": {
   "codemirror_mode": {
    "name": "ipython",
    "version": 3
   },
   "file_extension": ".py",
   "mimetype": "text/x-python",
   "name": "python",
   "nbconvert_exporter": "python",
   "pygments_lexer": "ipython3",
   "version": "3.11.4"
  }
 },
 "nbformat": 4,
 "nbformat_minor": 5
}
