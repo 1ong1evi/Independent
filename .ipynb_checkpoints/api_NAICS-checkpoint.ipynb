{
 "cells": [
  {
   "cell_type": "markdown",
   "id": "3ed20872-57e0-424c-b521-837687726cbc",
   "metadata": {},
   "source": [
    "# NAICS API calls"
   ]
  },
  {
   "cell_type": "code",
   "execution_count": 29,
   "id": "0a4688dc-43ce-4b19-b097-a4d73a50dbb8",
   "metadata": {},
   "outputs": [],
   "source": [
    "# import libraries \n",
    "from requests import Request, Session\n",
    "import pandas as pd\n",
    "import json\n",
    "from matplotlib import pyplot as plt"
   ]
  },
  {
   "cell_type": "code",
   "execution_count": 30,
   "id": "36654738-7f4c-48ce-a26f-d449f829437a",
   "metadata": {},
   "outputs": [],
   "source": [
    "# initialize an empty master DataFrame\n",
    "master_df = pd.DataFrame()\n",
    "\n",
    "# dictionaries of apis from Census data \n",
    "year_url_dict = {2011: \"https://api.census.gov/data/2021/cbp?get=EMP,NAME&for=combined%20statistical%20area:*&NAICS2017=51\", 2012: \"url2\", 2013: \"url3\"}\n",
    "\n",
    "# initialized vars\n",
    "starting_year = 2011\n",
    "current_year = 2011\n",
    "       ## https://api.census.gov/data/2021/cbp?get=EMP,NAME&for=combined%20statistical%20area:*&NAICS2017=51"
   ]
  },
  {
   "cell_type": "markdown",
   "id": "a908bc2b-7d9a-48ca-ac7f-9a8af403e301",
   "metadata": {},
   "source": [
    "renaming session to be easier to be called\n",
    "session = Session()\n",
    "response = session.get(url)\n",
    "loading data as json text\n",
    "data = json.loads(response.text)\n",
    "print(data)"
   ]
  },
  {
   "cell_type": "code",
   "execution_count": 31,
   "id": "806e4ad6-5c2b-42bf-bbb3-90b231f3f2ad",
   "metadata": {},
   "outputs": [],
   "source": [
    "# placeholder function to clean and format the data\n",
    "def clean_and_format_data(api_data, year):\n",
    "    cleaned_data = pd.DataFrame(api_data)\n",
    "    \n",
    "    # Rename the 'emp' column to 'year' to match the current year\n",
    "    cleaned_data.rename(columns={'emp': year}, inplace=True)\n",
    "    \n",
    "    return cleaned_data"
   ]
  },
  {
   "cell_type": "code",
   "execution_count": 32,
   "id": "6f52104c-218f-42c9-81e1-d80f6f0a9b9f",
   "metadata": {},
   "outputs": [],
   "source": [
    "# loop through the years\n",
    "for year in range(starting_year, current_year + 1):\n",
    "    url = year_url_dict.get(year)\n",
    "    if url:\n",
    "        # make an API request\n",
    "        response = requests.get(url)\n",
    "        \n",
    "        if response.status_code == 200:\n",
    "            cleaned_data = clean_and_format_data(response.json(), year)\n",
    "            \n",
    "            if year == starting_year:\n",
    "                # if it's the starting year, set the master DataFrame to the cleaned data\n",
    "                master_df = cleaned_data\n",
    "            else:\n",
    "                # merge new data with the master DataFrame\n",
    "                master_df = pd.concat([master_df, cleaned_data], ignore_index=True)\n",
    "        else:\n",
    "            print(f\"Failed to fetch data for year {year} from {url}\")\n",
    "\n",
    "    current_year += 1\n",
    "    "
   ]
  },
  {
   "cell_type": "code",
   "execution_count": null,
   "id": "40bd495b-4d5c-4bd0-9bd6-34d5a1046e43",
   "metadata": {},
   "outputs": [],
   "source": []
  }
 ],
 "metadata": {
  "kernelspec": {
   "display_name": "Python 3 (ipykernel)",
   "language": "python",
   "name": "python3"
  },
  "language_info": {
   "codemirror_mode": {
    "name": "ipython",
    "version": 3
   },
   "file_extension": ".py",
   "mimetype": "text/x-python",
   "name": "python",
   "nbconvert_exporter": "python",
   "pygments_lexer": "ipython3",
   "version": "3.11.4"
  }
 },
 "nbformat": 4,
 "nbformat_minor": 5
}
