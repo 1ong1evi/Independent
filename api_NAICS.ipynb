{
 "cells": [
  {
   "cell_type": "markdown",
   "id": "3ed20872-57e0-424c-b521-837687726cbc",
   "metadata": {},
   "source": [
    "# NAICS API calls"
   ]
  },
  {
   "cell_type": "code",
   "execution_count": 101,
   "id": "0a4688dc-43ce-4b19-b097-a4d73a50dbb8",
   "metadata": {},
   "outputs": [],
   "source": [
    "from matplotlib import pyplot as plt\n",
    "import requests\n",
    "import pandas as pd\n",
    "import seaborn as sns"
   ]
  },
  {
   "cell_type": "code",
   "execution_count": 102,
   "id": "36654738-7f4c-48ce-a26f-d449f829437a",
   "metadata": {},
   "outputs": [],
   "source": [
    "# initialize an empty master DataFrame\n",
    "master_df = pd.DataFrame()\n",
    "\n",
    "year_url_dict = {\n",
    "    2017: \"https://api.census.gov/data/2017/cbp?get=EMP,NAME&for=combined%20statistical%20area:*&NAICS2017=51\",\n",
    "    2018: \"https://api.census.gov/data/2018/cbp?get=EMP,NAME&for=combined%20statistical%20area:*&NAICS2017=51\",\n",
    "    2019: \"https://api.census.gov/data/2019/cbp?get=EMP,NAME&for=combined%20statistical%20area:*&NAICS2017=51\",\n",
    "    2020: \"https://api.census.gov/data/2020/cbp?get=EMP,NAME&for=combined%20statistical%20area:*&NAICS2017=51\",\n",
    "    2021: \"https://api.census.gov/data/2021/cbp?get=EMP,NAME&for=combined%20statistical%20area:*&NAICS2017=51\",\n",
    "}"
   ]
  },
  {
   "cell_type": "code",
   "execution_count": 103,
   "id": "806e4ad6-5c2b-42bf-bbb3-90b231f3f2ad",
   "metadata": {},
   "outputs": [
    {
     "name": "stderr",
     "output_type": "stream",
     "text": [
      "C:\\Users\\levil\\AppData\\Local\\Temp\\ipykernel_9880\\3015988910.py:18: FutureWarning: Passing 'suffixes' which cause duplicate columns {'NAICS2017_x'} in the result is deprecated and will raise a MergeError in a future version.\n",
      "  master_df = pd.merge(master_df, api_df, on=[\"LOCATION\",\"CSA\"], how=\"right\")\n"
     ]
    }
   ],
   "source": [
    "# Loop through the years and merge data into the master DataFrame\n",
    "for year, url in year_url_dict.items():\n",
    "    response = requests.get(url)\n",
    "\n",
    "    if response.status_code == 200:\n",
    "        # Extract the relevant data from the API response\n",
    "        api_data = response.json()[1:]  # Skip the header row\n",
    "        api_df = pd.DataFrame(api_data, columns=[\"EMP\", \"LOCATION\", \"NAICS2017\",\"CSA\"])\n",
    "        \n",
    "        # Rename the 'EMP' column to 'emp_YEAR' to match the current year\n",
    "        api_df.rename(columns={\"EMP\": f\"emp_{year}\"}, inplace=True)\n",
    "\n",
    "        if master_df.empty:\n",
    "            # If it's the first year, set the master DataFrame to the cleaned data\n",
    "            master_df = api_df\n",
    "        else:\n",
    "            # Merge new data with the master DataFrame using 'LOCATION' and 'CSA' as keys\n",
    "            master_df = pd.merge(master_df, api_df, on=[\"LOCATION\",\"CSA\"], how=\"right\")"
   ]
  },
  {
   "cell_type": "code",
   "execution_count": 104,
   "id": "a6403ec4-44a7-46a4-b8b3-dec82db47be6",
   "metadata": {},
   "outputs": [],
   "source": [
    "# List of columns to drop\n",
    "columns_to_drop = ['NAICS2017_x', 'NAICS2017_y', 'NAICS2017_x', 'NAICS2017_y', 'NAICS2017']\n",
    "\n",
    "master_df.drop(columns=columns_to_drop, inplace=True)"
   ]
  },
  {
   "cell_type": "code",
   "execution_count": 105,
   "id": "cc15abc3-3ca2-455b-b249-697af1876924",
   "metadata": {},
   "outputs": [
    {
     "name": "stdout",
     "output_type": "stream",
     "text": [
      "  emp_2017                                LOCATION  CSA emp_2018 emp_2019  \\\n",
      "0    11142              Albany-Schenectady, NY CSA  104    11518    10925   \n",
      "1     9069  Albuquerque-Santa Fe-Las Vegas, NM CSA  106     8686     7819   \n",
      "2     1516                 Amarillo-Borger, TX CSA  108     1574     1484   \n",
      "3     2961         Appleton-Oshkosh-Neenah, WI CSA  118     3005     2922   \n",
      "4     2381               Asheville-Brevard, NC CSA  120     2256     2217   \n",
      "\n",
      "  emp_2020 emp_2021  \n",
      "0    10269     9441  \n",
      "1     7553     6541  \n",
      "2     1490     1334  \n",
      "3     2774     2286  \n",
      "4     2401     1957  \n"
     ]
    }
   ],
   "source": [
    "print(master_df.head())"
   ]
  },
  {
   "cell_type": "markdown",
   "id": "6d240b13-20fb-4532-b014-086d7fa4bcf6",
   "metadata": {},
   "source": [
    "### Exporting the data as a csv so results can be reproduced."
   ]
  },
  {
   "cell_type": "markdown",
   "id": "5922ff2c-b3f7-4dfe-ae42-ac22cd5fa869",
   "metadata": {},
   "source": [
    "Data is exported into a csv file named 'Cen_11_21.csv' as a master data frame regarding all information from 2017 to 2021 respectively. "
   ]
  },
  {
   "cell_type": "code",
   "execution_count": 108,
   "id": "0adf86dc-2a98-44b8-b2ea-1c79606e36b6",
   "metadata": {},
   "outputs": [],
   "source": [
    "master_df.to_csv('Cen_17_21.csv', index=False, mode='w')"
   ]
  },
  {
   "cell_type": "markdown",
   "id": "e6eb83b7-3c5a-41b0-9346-aa38015d7dd3",
   "metadata": {},
   "source": [
    "### What years had the lowest employement numbers?"
   ]
  },
  {
   "cell_type": "markdown",
   "id": "363248d9-ae3e-4d5d-a66a-128fb3dbd197",
   "metadata": {},
   "source": [
    "The years with the lowest employment numbers were 2017 and 2021 using total of each emp_YEAR during the years of 2017 to 2021.\n"
   ]
  },
  {
   "cell_type": "code",
   "execution_count": 121,
   "id": "fbc869dd-83e7-40bc-a65f-a6f5ed4547f1",
   "metadata": {},
   "outputs": [
    {
     "data": {
      "image/png": "[encoded data removed]",
      "text/plain": [
       "<Figure size 640x480 with 1 Axes>"
      ]
     },
     "metadata": {},
     "output_type": "display_data"
    }
   ],
   "source": [
    "year_columns = [\"2017\",\"2018\",\"2019\",\"2020\",\"2021\"]\n",
    "yearly_employment = [2954405,3045024,3023971,3040214,2883885] \n",
    "plt.bar(year_columns, yearly_employment)\n",
    "plt.title('Total Employment by Year')\n",
    "plt.xlabel('Year')\n",
    "plt.ylabel('Total Employment')\n",
    "plt.xticks(rotation=45)\n",
    "\n",
    "# Zooms in on the graph around the 3,000,00 range\n",
    "plt.ylim(2800000, 3100000)\n",
    "\n",
    "plt.show()"
   ]
  },
  {
   "cell_type": "markdown",
   "id": "5629c0bc-76dc-4db6-a336-be0baf2d38d3",
   "metadata": {},
   "source": [
    "### Of the all of the locations using combined statistical area the top 15 employement numbers in year ___ we can notice ____."
   ]
  },
  {
   "cell_type": "code",
   "execution_count": null,
   "id": "10723412-600d-4fc0-b81f-d623ffeec70a",
   "metadata": {},
   "outputs": [],
   "source": [
    "## Showcase with a visual"
   ]
  },
  {
   "cell_type": "code",
   "execution_count": null,
   "id": "ff128997-5aaa-4f68-869f-0d79a256612d",
   "metadata": {},
   "outputs": [],
   "source": []
  }
 ],
 "metadata": {
  "kernelspec": {
   "display_name": "Python 3 (ipykernel)",
   "language": "python",
   "name": "python3"
  },
  "language_info": {
   "codemirror_mode": {
    "name": "ipython",
    "version": 3
   },
   "file_extension": ".py",
   "mimetype": "text/x-python",
   "name": "python",
   "nbconvert_exporter": "python",
   "pygments_lexer": "ipython3",
   "version": "3.11.4"
  }
 },
 "nbformat": 4,
 "nbformat_minor": 5
}
